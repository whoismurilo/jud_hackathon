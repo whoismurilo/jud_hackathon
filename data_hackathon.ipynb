{
  "nbformat": 4,
  "nbformat_minor": 0,
  "metadata": {
    "colab": {
      "name": "data_hackathon.ipynb",
      "provenance": [],
      "collapsed_sections": [],
      "include_colab_link": true
    },
    "kernelspec": {
      "name": "python3",
      "display_name": "Python 3"
    }
  },
  "cells": [
    {
      "cell_type": "markdown",
      "metadata": {
        "id": "view-in-github",
        "colab_type": "text"
      },
      "source": [
        "<a href=\"https://colab.research.google.com/github/whoismurilo/jud_hackathon/blob/master/data_hackathon.ipynb\" target=\"_parent\"><img src=\"https://colab.research.google.com/assets/colab-badge.svg\" alt=\"Open In Colab\"/></a>"
      ]
    },
    {
      "cell_type": "markdown",
      "metadata": {
        "id": "AJy5ftkLEZrA"
      },
      "source": [
        "## **Pesquisar Consulta Processual**"
      ]
    },
    {
      "cell_type": "markdown",
      "metadata": {
        "id": "TF80WI1Xiel8"
      },
      "source": [
        "### Faz a busca do link de Consulta Processual referente ao estado digitado pelo usuário."
      ]
    },
    {
      "cell_type": "code",
      "metadata": {
        "id": "Nfx-ElZ22Gip",
        "outputId": "dde401c3-5f42-4c91-de3f-d899504d17e1",
        "colab": {
          "base_uri": "https://localhost:8080/",
          "height": 68
        }
      },
      "source": [
        "#install libs\n",
        "!pip install beautifulsoup4\n",
        "!pip install google"
      ],
      "execution_count": null,
      "outputs": [
        {
          "output_type": "stream",
          "text": [
            "Requirement already satisfied: beautifulsoup4 in /usr/local/lib/python3.6/dist-packages (4.6.3)\n",
            "Requirement already satisfied: google in /usr/local/lib/python3.6/dist-packages (2.0.3)\n",
            "Requirement already satisfied: beautifulsoup4 in /usr/local/lib/python3.6/dist-packages (from google) (4.6.3)\n"
          ],
          "name": "stdout"
        }
      ]
    },
    {
      "cell_type": "code",
      "metadata": {
        "id": "EbfwRnvMB_cA",
        "outputId": "4d2bfbba-4929-43ef-fadf-0a1f9eaf7acc",
        "colab": {
          "base_uri": "https://localhost:8080/",
          "height": 170
        }
      },
      "source": [
        "# find error\n",
        "try: \n",
        "    from googlesearch import search \n",
        "except ImportError:  \n",
        "    print(\"No module named 'google' found\") \n",
        "  \n",
        "# to search \n",
        "state = input('Qual o seu estado? ')\n",
        "query = ('Consultas Processuais' + state)\n",
        "\n",
        "  \n",
        "for j in search(query, tld=\"co.in\", num=10, stop=10, pause=2): \n",
        "    print(j)\n",
        "\n"
      ],
      "execution_count": null,
      "outputs": [
        {
          "output_type": "stream",
          "text": [
            "Qual o seu estado? MG\n",
            "http://www.tjrj.jus.br/consultas\n",
            "http://www.tjrj.jus.br/consultas/processos_jud/processos_jud\n",
            "http://www.tjrj.jus.br/web/guest/processos\n",
            "http://www.tjrj.jus.br/\n",
            "http://www.tjrj.jus.br/consultas/processos-jud/formas-dispo-consultas\n",
            "http://www.tjrj.jus.br/web/guest/processo-eletronico-inicial\n",
            "http://www.tjrj.jus.br/web/guest/consultas/endereco_telefones/endtel\n",
            "http://www.tjrj.jus.br/consultas/banco-conhecimento/banco-conhecimento\n"
          ],
          "name": "stdout"
        }
      ]
    },
    {
      "cell_type": "markdown",
      "metadata": {
        "id": "9WpHDwp8N38a"
      },
      "source": [
        "## **Consulta por dado de entrada do usuário**"
      ]
    },
    {
      "cell_type": "markdown",
      "metadata": {
        "id": "WpBdUDd2izG_"
      },
      "source": [
        "### O usuário fornece o dado que será a chave para a busca no sistema do PJe. Estamos usando a base de dados fornecida para mostrar o algoritmo de busca em ação."
      ]
    },
    {
      "cell_type": "code",
      "metadata": {
        "id": "4fJCxTYwJTk7"
      },
      "source": [
        "#importing libs\n",
        "import pandas as pd\n",
        "import numpy as np"
      ],
      "execution_count": null,
      "outputs": []
    },
    {
      "cell_type": "code",
      "metadata": {
        "id": "3YkoKbykOHwV"
      },
      "source": [
        "#creating a DataFrame\n",
        "data = pd.read_csv('metadados2020.csv', engine='python')\n",
        "data.head()"
      ],
      "execution_count": null,
      "outputs": []
    },
    {
      "cell_type": "markdown",
      "metadata": {
        "id": "Fy-sTweviDZW"
      },
      "source": [
        "### Utilizamos o número do processo por a base de dados liberada não ter o CPF como campo, o que será alterado para busca por CPF quando tivermos acesso a base de dados do PJe."
      ]
    },
    {
      "cell_type": "code",
      "metadata": {
        "id": "8pcCIXMTOR_u",
        "outputId": "b034c94f-ba4d-47a5-bf66-8c18e5b0dc7e",
        "colab": {
          "base_uri": "https://localhost:8080/",
          "height": 136
        }
      },
      "source": [
        "#Discovering the most frequent process number\n",
        "data['Numero do processo'].value_counts()"
      ],
      "execution_count": null,
      "outputs": [
        {
          "output_type": "execute_result",
          "data": {
            "text/plain": [
              "0800145-66.2020.4.05.8400    564\n",
              "0801068-92.2020.4.05.8400    357\n",
              "0800173-31.2020.4.05.8401    340\n",
              "0800935-50.2020.4.05.8400    312\n",
              "0800660-04.2020.4.05.8400    252\n",
              "0800429-71.2020.4.05.8401    102\n",
              "Name: Numero do processo, dtype: int64"
            ]
          },
          "metadata": {
            "tags": []
          },
          "execution_count": 124
        }
      ]
    },
    {
      "cell_type": "code",
      "metadata": {
        "id": "Z0geynXqampw",
        "outputId": "73bad2c1-0774-462b-bfc9-dfed06ad3740",
        "colab": {
          "base_uri": "https://localhost:8080/",
          "height": 34
        }
      },
      "source": [
        "#Searching the process\n",
        "search = input('Qual o número do processo? Digite corretamente utilizando as devidas pontuações: ')"
      ],
      "execution_count": null,
      "outputs": [
        {
          "output_type": "stream",
          "text": [
            "Qual o número do processo? Digite corretamente utilizando as devidas pontuações 0800935-50.2020.4.05.8400\n"
          ],
          "name": "stdout"
        }
      ]
    },
    {
      "cell_type": "code",
      "metadata": {
        "id": "vLxKhGTlavLU",
        "outputId": "b53b5672-3b14-4814-a6da-1290576b940c",
        "colab": {
          "base_uri": "https://localhost:8080/",
          "height": 1000
        }
      },
      "source": [
        "#Using the data that the user has provided\n",
        "data.loc[data['Numero do processo'] == search]"
      ],
      "execution_count": null,
      "outputs": [
        {
          "output_type": "execute_result",
          "data": {
            "text/html": [
              "<div>\n",
              "<style scoped>\n",
              "    .dataframe tbody tr th:only-of-type {\n",
              "        vertical-align: middle;\n",
              "    }\n",
              "\n",
              "    .dataframe tbody tr th {\n",
              "        vertical-align: top;\n",
              "    }\n",
              "\n",
              "    .dataframe thead th {\n",
              "        text-align: right;\n",
              "    }\n",
              "</style>\n",
              "<table border=\"1\" class=\"dataframe\">\n",
              "  <thead>\n",
              "    <tr style=\"text-align: right;\">\n",
              "      <th></th>\n",
              "      <th>Numero do processo</th>\n",
              "      <th>Codigo da classe processual</th>\n",
              "      <th>Descricao da classe processual</th>\n",
              "      <th>Codigo do Assunto</th>\n",
              "      <th>Descricao do Assunto</th>\n",
              "      <th>Nome Parte</th>\n",
              "      <th>Polo Ativo ou Passivo</th>\n",
              "      <th>Tipo de Parte</th>\n",
              "      <th>Data da distribuicao</th>\n",
              "      <th>Orgao Julgador</th>\n",
              "      <th>Data Movimentacao Processual</th>\n",
              "      <th>Codigo do Evento</th>\n",
              "      <th>Descricao do Evento</th>\n",
              "      <th>Descricao do Complemento</th>\n",
              "      <th>Documento</th>\n",
              "      <th>Conteudo do Documento</th>\n",
              "      <th>Magistrado responsavel pelo ato</th>\n",
              "      <th>Valor da Causa</th>\n",
              "      <th>Processo Originario</th>\n",
              "      <th>Justica Gratuita</th>\n",
              "      <th>Processo Prioritario</th>\n",
              "      <th>Tutela/Luminar</th>\n",
              "      <th>Apreciacao Tutela/Liminar</th>\n",
              "      <th>Data Transito em Julgado</th>\n",
              "      <th>Processo Referencia</th>\n",
              "      <th>Revisado</th>\n",
              "      <th>Incidental</th>\n",
              "      <th>Data de Autualizacao</th>\n",
              "    </tr>\n",
              "  </thead>\n",
              "  <tbody>\n",
              "    <tr>\n",
              "      <th>1357</th>\n",
              "      <td>0800935-50.2020.4.05.8400</td>\n",
              "      <td>120</td>\n",
              "      <td>MANDADO DE SEGURAN�A C�VEL</td>\n",
              "      <td>10379</td>\n",
              "      <td>Anula��o e Corre��o de Provas / Quest�es</td>\n",
              "      <td>ERICK CARVALHO DE MEDEIROS</td>\n",
              "      <td>A</td>\n",
              "      <td>ADVOGADO</td>\n",
              "      <td>2020-02-13 20:59:34.481</td>\n",
              "      <td>1� VARA FEDERAL</td>\n",
              "      <td>2020-02-14 11:11:37.062</td>\n",
              "      <td>50149</td>\n",
              "      <td>Juntada de Certid�o de Intima��o</td>\n",
              "      <td>NaN</td>\n",
              "      <td>Voto Relator</td>\n",
              "      <td>&lt;p style=\"text-align: center;\"&gt;&lt;strong&gt;&lt;span s...</td>\n",
              "      <td>PAULO MACHADO CORDEIRO</td>\n",
              "      <td>1000.0</td>\n",
              "      <td>NaN</td>\n",
              "      <td>S</td>\n",
              "      <td>N</td>\n",
              "      <td>S</td>\n",
              "      <td>S</td>\n",
              "      <td>NaN</td>\n",
              "      <td>NaN</td>\n",
              "      <td>N</td>\n",
              "      <td>N</td>\n",
              "      <td>2020-02-13 20:59:34.481</td>\n",
              "    </tr>\n",
              "    <tr>\n",
              "      <th>1358</th>\n",
              "      <td>0800935-50.2020.4.05.8400</td>\n",
              "      <td>120</td>\n",
              "      <td>MANDADO DE SEGURAN�A C�VEL</td>\n",
              "      <td>10382</td>\n",
              "      <td>Anula��o</td>\n",
              "      <td>ERICK CARVALHO DE MEDEIROS</td>\n",
              "      <td>A</td>\n",
              "      <td>ADVOGADO</td>\n",
              "      <td>2020-02-13 20:59:34.481</td>\n",
              "      <td>1� VARA FEDERAL</td>\n",
              "      <td>2020-02-14 11:11:37.062</td>\n",
              "      <td>50149</td>\n",
              "      <td>Juntada de Certid�o de Intima��o</td>\n",
              "      <td>NaN</td>\n",
              "      <td>Voto Relator</td>\n",
              "      <td>&lt;p style=\"text-align: center;\"&gt;&lt;strong&gt;&lt;span s...</td>\n",
              "      <td>PAULO MACHADO CORDEIRO</td>\n",
              "      <td>1000.0</td>\n",
              "      <td>NaN</td>\n",
              "      <td>S</td>\n",
              "      <td>N</td>\n",
              "      <td>S</td>\n",
              "      <td>S</td>\n",
              "      <td>NaN</td>\n",
              "      <td>NaN</td>\n",
              "      <td>N</td>\n",
              "      <td>N</td>\n",
              "      <td>2020-02-13 20:59:34.481</td>\n",
              "    </tr>\n",
              "    <tr>\n",
              "      <th>1359</th>\n",
              "      <td>0800935-50.2020.4.05.8400</td>\n",
              "      <td>120</td>\n",
              "      <td>MANDADO DE SEGURAN�A C�VEL</td>\n",
              "      <td>10379</td>\n",
              "      <td>Anula��o e Corre��o de Provas / Quest�es</td>\n",
              "      <td>CONSELHO FEDERAL DA ORDEM DOS ADVOGADOS DO BRASIL</td>\n",
              "      <td>P</td>\n",
              "      <td>IMPETRADO</td>\n",
              "      <td>2020-02-13 20:59:34.481</td>\n",
              "      <td>1� VARA FEDERAL</td>\n",
              "      <td>2020-02-14 11:11:37.062</td>\n",
              "      <td>50149</td>\n",
              "      <td>Juntada de Certid�o de Intima��o</td>\n",
              "      <td>NaN</td>\n",
              "      <td>Voto Relator</td>\n",
              "      <td>&lt;p style=\"text-align: center;\"&gt;&lt;strong&gt;&lt;span s...</td>\n",
              "      <td>PAULO MACHADO CORDEIRO</td>\n",
              "      <td>1000.0</td>\n",
              "      <td>NaN</td>\n",
              "      <td>S</td>\n",
              "      <td>N</td>\n",
              "      <td>S</td>\n",
              "      <td>S</td>\n",
              "      <td>NaN</td>\n",
              "      <td>NaN</td>\n",
              "      <td>N</td>\n",
              "      <td>N</td>\n",
              "      <td>2020-02-13 20:59:34.481</td>\n",
              "    </tr>\n",
              "    <tr>\n",
              "      <th>1360</th>\n",
              "      <td>0800935-50.2020.4.05.8400</td>\n",
              "      <td>120</td>\n",
              "      <td>MANDADO DE SEGURAN�A C�VEL</td>\n",
              "      <td>10382</td>\n",
              "      <td>Anula��o</td>\n",
              "      <td>CONSELHO FEDERAL DA ORDEM DOS ADVOGADOS DO BRASIL</td>\n",
              "      <td>P</td>\n",
              "      <td>IMPETRADO</td>\n",
              "      <td>2020-02-13 20:59:34.481</td>\n",
              "      <td>1� VARA FEDERAL</td>\n",
              "      <td>2020-02-14 11:11:37.062</td>\n",
              "      <td>50149</td>\n",
              "      <td>Juntada de Certid�o de Intima��o</td>\n",
              "      <td>NaN</td>\n",
              "      <td>Voto Relator</td>\n",
              "      <td>&lt;p style=\"text-align: center;\"&gt;&lt;strong&gt;&lt;span s...</td>\n",
              "      <td>PAULO MACHADO CORDEIRO</td>\n",
              "      <td>1000.0</td>\n",
              "      <td>NaN</td>\n",
              "      <td>S</td>\n",
              "      <td>N</td>\n",
              "      <td>S</td>\n",
              "      <td>S</td>\n",
              "      <td>NaN</td>\n",
              "      <td>NaN</td>\n",
              "      <td>N</td>\n",
              "      <td>N</td>\n",
              "      <td>2020-02-13 20:59:34.481</td>\n",
              "    </tr>\n",
              "    <tr>\n",
              "      <th>1361</th>\n",
              "      <td>0800935-50.2020.4.05.8400</td>\n",
              "      <td>120</td>\n",
              "      <td>MANDADO DE SEGURAN�A C�VEL</td>\n",
              "      <td>10379</td>\n",
              "      <td>Anula��o e Corre��o de Provas / Quest�es</td>\n",
              "      <td>FUNDACAO GETULIO VARGAS</td>\n",
              "      <td>P</td>\n",
              "      <td>IMPETRADO</td>\n",
              "      <td>2020-02-13 20:59:34.481</td>\n",
              "      <td>1� VARA FEDERAL</td>\n",
              "      <td>2020-02-14 11:11:37.062</td>\n",
              "      <td>50149</td>\n",
              "      <td>Juntada de Certid�o de Intima��o</td>\n",
              "      <td>NaN</td>\n",
              "      <td>Voto Relator</td>\n",
              "      <td>&lt;p style=\"text-align: center;\"&gt;&lt;strong&gt;&lt;span s...</td>\n",
              "      <td>PAULO MACHADO CORDEIRO</td>\n",
              "      <td>1000.0</td>\n",
              "      <td>NaN</td>\n",
              "      <td>S</td>\n",
              "      <td>N</td>\n",
              "      <td>S</td>\n",
              "      <td>S</td>\n",
              "      <td>NaN</td>\n",
              "      <td>NaN</td>\n",
              "      <td>N</td>\n",
              "      <td>N</td>\n",
              "      <td>2020-02-13 20:59:34.481</td>\n",
              "    </tr>\n",
              "    <tr>\n",
              "      <th>...</th>\n",
              "      <td>...</td>\n",
              "      <td>...</td>\n",
              "      <td>...</td>\n",
              "      <td>...</td>\n",
              "      <td>...</td>\n",
              "      <td>...</td>\n",
              "      <td>...</td>\n",
              "      <td>...</td>\n",
              "      <td>...</td>\n",
              "      <td>...</td>\n",
              "      <td>...</td>\n",
              "      <td>...</td>\n",
              "      <td>...</td>\n",
              "      <td>...</td>\n",
              "      <td>...</td>\n",
              "      <td>...</td>\n",
              "      <td>...</td>\n",
              "      <td>...</td>\n",
              "      <td>...</td>\n",
              "      <td>...</td>\n",
              "      <td>...</td>\n",
              "      <td>...</td>\n",
              "      <td>...</td>\n",
              "      <td>...</td>\n",
              "      <td>...</td>\n",
              "      <td>...</td>\n",
              "      <td>...</td>\n",
              "      <td>...</td>\n",
              "    </tr>\n",
              "    <tr>\n",
              "      <th>1922</th>\n",
              "      <td>0800935-50.2020.4.05.8400</td>\n",
              "      <td>120</td>\n",
              "      <td>MANDADO DE SEGURAN�A C�VEL</td>\n",
              "      <td>10382</td>\n",
              "      <td>Anula��o</td>\n",
              "      <td>CONSELHO FEDERAL DA ORDEM DOS ADVOGADOS DO BRASIL</td>\n",
              "      <td>P</td>\n",
              "      <td>IMPETRADO</td>\n",
              "      <td>2020-02-13 20:59:34.481</td>\n",
              "      <td>1� VARA FEDERAL</td>\n",
              "      <td>2020-08-24 15:39:12.601</td>\n",
              "      <td>132</td>\n",
              "      <td>Recebidos os autos</td>\n",
              "      <td>NaN</td>\n",
              "      <td>Voto Relator</td>\n",
              "      <td>&lt;p style=\"text-align: center;\"&gt;&lt;strong&gt;&lt;span s...</td>\n",
              "      <td>PAULO MACHADO CORDEIRO</td>\n",
              "      <td>1000.0</td>\n",
              "      <td>NaN</td>\n",
              "      <td>S</td>\n",
              "      <td>N</td>\n",
              "      <td>S</td>\n",
              "      <td>S</td>\n",
              "      <td>NaN</td>\n",
              "      <td>NaN</td>\n",
              "      <td>N</td>\n",
              "      <td>N</td>\n",
              "      <td>2020-02-13 20:59:34.481</td>\n",
              "    </tr>\n",
              "    <tr>\n",
              "      <th>1923</th>\n",
              "      <td>0800935-50.2020.4.05.8400</td>\n",
              "      <td>120</td>\n",
              "      <td>MANDADO DE SEGURAN�A C�VEL</td>\n",
              "      <td>10379</td>\n",
              "      <td>Anula��o e Corre��o de Provas / Quest�es</td>\n",
              "      <td>FUNDACAO GETULIO VARGAS</td>\n",
              "      <td>P</td>\n",
              "      <td>IMPETRADO</td>\n",
              "      <td>2020-02-13 20:59:34.481</td>\n",
              "      <td>1� VARA FEDERAL</td>\n",
              "      <td>2020-08-24 15:39:12.601</td>\n",
              "      <td>132</td>\n",
              "      <td>Recebidos os autos</td>\n",
              "      <td>NaN</td>\n",
              "      <td>Voto Relator</td>\n",
              "      <td>&lt;p style=\"text-align: center;\"&gt;&lt;strong&gt;&lt;span s...</td>\n",
              "      <td>PAULO MACHADO CORDEIRO</td>\n",
              "      <td>1000.0</td>\n",
              "      <td>NaN</td>\n",
              "      <td>S</td>\n",
              "      <td>N</td>\n",
              "      <td>S</td>\n",
              "      <td>S</td>\n",
              "      <td>NaN</td>\n",
              "      <td>NaN</td>\n",
              "      <td>N</td>\n",
              "      <td>N</td>\n",
              "      <td>2020-02-13 20:59:34.481</td>\n",
              "    </tr>\n",
              "    <tr>\n",
              "      <th>1924</th>\n",
              "      <td>0800935-50.2020.4.05.8400</td>\n",
              "      <td>120</td>\n",
              "      <td>MANDADO DE SEGURAN�A C�VEL</td>\n",
              "      <td>10382</td>\n",
              "      <td>Anula��o</td>\n",
              "      <td>FUNDACAO GETULIO VARGAS</td>\n",
              "      <td>P</td>\n",
              "      <td>IMPETRADO</td>\n",
              "      <td>2020-02-13 20:59:34.481</td>\n",
              "      <td>1� VARA FEDERAL</td>\n",
              "      <td>2020-08-24 15:39:12.601</td>\n",
              "      <td>132</td>\n",
              "      <td>Recebidos os autos</td>\n",
              "      <td>NaN</td>\n",
              "      <td>Voto Relator</td>\n",
              "      <td>&lt;p style=\"text-align: center;\"&gt;&lt;strong&gt;&lt;span s...</td>\n",
              "      <td>PAULO MACHADO CORDEIRO</td>\n",
              "      <td>1000.0</td>\n",
              "      <td>NaN</td>\n",
              "      <td>S</td>\n",
              "      <td>N</td>\n",
              "      <td>S</td>\n",
              "      <td>S</td>\n",
              "      <td>NaN</td>\n",
              "      <td>NaN</td>\n",
              "      <td>N</td>\n",
              "      <td>N</td>\n",
              "      <td>2020-02-13 20:59:34.481</td>\n",
              "    </tr>\n",
              "    <tr>\n",
              "      <th>1925</th>\n",
              "      <td>0800935-50.2020.4.05.8400</td>\n",
              "      <td>120</td>\n",
              "      <td>MANDADO DE SEGURAN�A C�VEL</td>\n",
              "      <td>10379</td>\n",
              "      <td>Anula��o e Corre��o de Provas / Quest�es</td>\n",
              "      <td>JUSCELINO GRACIANO DOS SANTOS</td>\n",
              "      <td>A</td>\n",
              "      <td>IMPETRANTE</td>\n",
              "      <td>2020-02-13 20:59:34.481</td>\n",
              "      <td>1� VARA FEDERAL</td>\n",
              "      <td>2020-08-24 15:39:12.601</td>\n",
              "      <td>132</td>\n",
              "      <td>Recebidos os autos</td>\n",
              "      <td>NaN</td>\n",
              "      <td>Voto Relator</td>\n",
              "      <td>&lt;p style=\"text-align: center;\"&gt;&lt;strong&gt;&lt;span s...</td>\n",
              "      <td>PAULO MACHADO CORDEIRO</td>\n",
              "      <td>1000.0</td>\n",
              "      <td>NaN</td>\n",
              "      <td>S</td>\n",
              "      <td>N</td>\n",
              "      <td>S</td>\n",
              "      <td>S</td>\n",
              "      <td>NaN</td>\n",
              "      <td>NaN</td>\n",
              "      <td>N</td>\n",
              "      <td>N</td>\n",
              "      <td>2020-02-13 20:59:34.481</td>\n",
              "    </tr>\n",
              "    <tr>\n",
              "      <th>1926</th>\n",
              "      <td>0800935-50.2020.4.05.8400</td>\n",
              "      <td>120</td>\n",
              "      <td>MANDADO DE SEGURAN�A C�VEL</td>\n",
              "      <td>10382</td>\n",
              "      <td>Anula��o</td>\n",
              "      <td>JUSCELINO GRACIANO DOS SANTOS</td>\n",
              "      <td>A</td>\n",
              "      <td>IMPETRANTE</td>\n",
              "      <td>2020-02-13 20:59:34.481</td>\n",
              "      <td>1� VARA FEDERAL</td>\n",
              "      <td>2020-08-24 15:39:12.601</td>\n",
              "      <td>132</td>\n",
              "      <td>Recebidos os autos</td>\n",
              "      <td>NaN</td>\n",
              "      <td>Voto Relator</td>\n",
              "      <td>&lt;p style=\"text-align: center;\"&gt;&lt;strong&gt;&lt;span s...</td>\n",
              "      <td>PAULO MACHADO CORDEIRO</td>\n",
              "      <td>1000.0</td>\n",
              "      <td>NaN</td>\n",
              "      <td>S</td>\n",
              "      <td>N</td>\n",
              "      <td>S</td>\n",
              "      <td>S</td>\n",
              "      <td>NaN</td>\n",
              "      <td>NaN</td>\n",
              "      <td>N</td>\n",
              "      <td>N</td>\n",
              "      <td>2020-02-13 20:59:34.481</td>\n",
              "    </tr>\n",
              "  </tbody>\n",
              "</table>\n",
              "<p>312 rows × 28 columns</p>\n",
              "</div>"
            ],
            "text/plain": [
              "             Numero do processo  ...     Data de Autualizacao\n",
              "1357  0800935-50.2020.4.05.8400  ...  2020-02-13 20:59:34.481\n",
              "1358  0800935-50.2020.4.05.8400  ...  2020-02-13 20:59:34.481\n",
              "1359  0800935-50.2020.4.05.8400  ...  2020-02-13 20:59:34.481\n",
              "1360  0800935-50.2020.4.05.8400  ...  2020-02-13 20:59:34.481\n",
              "1361  0800935-50.2020.4.05.8400  ...  2020-02-13 20:59:34.481\n",
              "...                         ...  ...                      ...\n",
              "1922  0800935-50.2020.4.05.8400  ...  2020-02-13 20:59:34.481\n",
              "1923  0800935-50.2020.4.05.8400  ...  2020-02-13 20:59:34.481\n",
              "1924  0800935-50.2020.4.05.8400  ...  2020-02-13 20:59:34.481\n",
              "1925  0800935-50.2020.4.05.8400  ...  2020-02-13 20:59:34.481\n",
              "1926  0800935-50.2020.4.05.8400  ...  2020-02-13 20:59:34.481\n",
              "\n",
              "[312 rows x 28 columns]"
            ]
          },
          "metadata": {
            "tags": []
          },
          "execution_count": 134
        }
      ]
    },
    {
      "cell_type": "code",
      "metadata": {
        "id": "xZhCzM7_axgJ",
        "outputId": "ed59d07a-a900-44ad-9297-8f52deb758ce",
        "colab": {
          "base_uri": "https://localhost:8080/",
          "height": 85
        }
      },
      "source": [
        "data['Descricao da classe processual'].value_counts()"
      ],
      "execution_count": null,
      "outputs": [
        {
          "output_type": "execute_result",
          "data": {
            "text/plain": [
              "MANDADO DE SEGURAN�A C�VEL            1485\n",
              "PROCEDIMENTO COMUM C�VEL               340\n",
              "CUMPRIMENTO PROVIS�RIO DE SENTEN�A     102\n",
              "Name: Descricao da classe processual, dtype: int64"
            ]
          },
          "metadata": {
            "tags": []
          },
          "execution_count": 142
        }
      ]
    },
    {
      "cell_type": "code",
      "metadata": {
        "id": "bK01GkZgf2mk"
      },
      "source": [
        ""
      ],
      "execution_count": null,
      "outputs": []
    }
  ]
}